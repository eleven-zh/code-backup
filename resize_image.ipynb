{
 "cells": [
  {
   "cell_type": "code",
   "execution_count": 13,
   "id": "combined-knock",
   "metadata": {},
   "outputs": [],
   "source": [
    "from PIL import Image\n",
    "import os"
   ]
  },
  {
   "cell_type": "code",
   "execution_count": 14,
   "id": "endangered-kuwait",
   "metadata": {},
   "outputs": [],
   "source": [
    "imagefile=(a for a in os.listdir('.') if a.endswith('.jpg'))\n",
    "size=2000,1400\n"
   ]
  },
  {
   "cell_type": "code",
   "execution_count": 15,
   "id": "adapted-instruction",
   "metadata": {},
   "outputs": [],
   "source": [
    "for i in imagefile:\n",
    "    new_name=os.path.splitext(i)[0]+'resized'+os.path.splitext(i)[1]\n",
    "    with Image.open(i) as im:\n",
    "        im.thumbnail(size)\n",
    "        im.save(new_name, \"JPEG\")"
   ]
  },
  {
   "cell_type": "code",
   "execution_count": null,
   "id": "governmental-whole",
   "metadata": {},
   "outputs": [],
   "source": []
  }
 ],
 "metadata": {
  "kernelspec": {
   "display_name": "Python 3",
   "language": "python",
   "name": "python3"
  },
  "language_info": {
   "codemirror_mode": {
    "name": "ipython",
    "version": 3
   },
   "file_extension": ".py",
   "mimetype": "text/x-python",
   "name": "python",
   "nbconvert_exporter": "python",
   "pygments_lexer": "ipython3",
   "version": "3.7.5"
  }
 },
 "nbformat": 4,
 "nbformat_minor": 5
}
