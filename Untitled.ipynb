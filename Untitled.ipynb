{
 "cells": [
  {
   "source": [
    "import pandas as pd\n",
    "import os,re\n",
    "def get_excelname(path):                         #get all excel name into a list\n",
    "    excelname = []\n",
    "    for file in os.listdir(path):\n",
    "        if os.path.splitext(file)[1] == '.xlsx':\n",
    "            excelname.append(file)\n",
    "    return excelname"
   ],
   "cell_type": "code",
   "metadata": {},
   "execution_count": null,
   "outputs": []
  },
  {
   "source": [
    "def findAllFile(path):\n",
    "    for root, dirs, files in os.walk(path):\n",
    "        for file in files:\n",
    "            if re.match(r'Database.*(\\.xlsx)$', file):\n",
    "                fullname = os.path.join(root, file)\n",
    "                yield fullname"
   ],
   "cell_type": "code",
   "metadata": {},
   "execution_count": null,
   "outputs": []
  },
  {
   "source": [
    "#merge all files togrther\n",
    "df = pd.DataFrame()\n",
    "for i in findAllFile('.'):\n",
    "    \n",
    "    df=df.append(pd.read_excel(i,engine='openpyxl'),ignore_index=True)\n"
   ],
   "cell_type": "code",
   "metadata": {},
   "execution_count": null,
   "outputs": []
  },
  {
   "source": [
    "df3 = pd.read_excel('放行总表.xlsx')\n",
    "df=pd.merge(df,df3[['合并','Reports No.','最新状态']],how='left',on='合并')\n",
    "df.to_excel('mergedfile.xlsx')"
   ],
   "cell_type": "code",
   "metadata": {},
   "execution_count": null,
   "outputs": []
  },
  {
   "cell_type": "code",
   "execution_count": null,
   "id": "descending-intellectual",
   "metadata": {},
   "outputs": [],
   "source": [
    "df.drop(df.columns[[0,1,2,3,4,5,7,13,15,17,18,20,21,22,24,25,26,27,28,29,30,38,39,40,41,42,43,44,45,46,47,48,49,50,51,52,53,54,55,56,57,58,59,60,61,62,63,64]],axis=1,inplace=True)\n"
   ]
  },
  {
   "cell_type": "code",
   "execution_count": null,
   "metadata": {},
   "outputs": [],
   "source": [
    "a=input('please submit date...')\n",
    "alist=a.split(',')\n",
    "alist"
   ]
  },
  {
   "cell_type": "code",
   "execution_count": null,
   "metadata": {},
   "outputs": [],
   "source": [
    "df=df[df['Visual Date'].isin(alist)]\n",
    "df1=df[df['RT Percent (%)']==100]"
   ]
  },
  {
   "cell_type": "code",
   "execution_count": null,
   "metadata": {},
   "outputs": [],
   "source": [
    "grouped = df.groupby(['RT Percent (%)','System Code','WPS NO','Size']).apply(lambda x:x.sample(frac=0.3)).reset_index(drop=True)\n",
    "grouped1 = df.groupby(['RT Percent (%)','System Code','WPS NO','Size']).apply(lambda x:x.sample(frac=1))"
   ]
  },
  {
   "cell_type": "code",
   "execution_count": null,
   "metadata": {},
   "outputs": [],
   "source": [
    "grouped.to_excel('RTsample.xlsx')"
   ]
  },
  {
   "cell_type": "code",
   "execution_count": null,
   "metadata": {},
   "outputs": [],
   "source": [
    "df2=pd.DataFrame(grouped1)\n",
    "df2.to_excel('Groupby.xlsx')"
   ]
  },
  {
   "cell_type": "code",
   "execution_count": null,
   "metadata": {},
   "outputs": [],
   "source": [
    "df1.to_excel('RTsampleBy100.xlsx')"
   ]
  },
  {
   "cell_type": "code",
   "execution_count": null,
   "metadata": {},
   "outputs": [],
   "source": []
  }
 ],
 "metadata": {
  "kernelspec": {
   "name": "python380jvsc74a57bd0b57cf49ba40cffb9f573ffff2e7abee1c00c6dadfcb1e268543de4b96bfe2901",
   "display_name": "Python 3.8.0 64-bit"
  },
  "language_info": {
   "codemirror_mode": {
    "name": "ipython",
    "version": 3
   },
   "file_extension": ".py",
   "mimetype": "text/x-python",
   "name": "python",
   "nbconvert_exporter": "python",
   "pygments_lexer": "ipython3",
   "version": "3.8.0"
  },
  "metadata": {
   "interpreter": {
    "hash": "b57cf49ba40cffb9f573ffff2e7abee1c00c6dadfcb1e268543de4b96bfe2901"
   }
  }
 },
 "nbformat": 4,
 "nbformat_minor": 5
}