{
 "cells": [
  {
   "cell_type": "code",
   "execution_count": 1,
   "id": "imposed-referral",
   "metadata": {},
   "outputs": [
    {
     "data": {
      "text/plain": [
       "['111.pdf', 'IMSR-PJO00169-PL-EPJO00036_MMDB.pdf']"
      ]
     },
     "execution_count": 1,
     "metadata": {},
     "output_type": "execute_result"
    }
   ],
   "source": [
    "import os\n",
    "from PyPDF2 import PdfFileMerger\n",
    "pdffile = [a for a in os.listdir('.') if a.endswith('.pdf')]\n",
    "pdffile"
   ]
  },
  {
   "cell_type": "code",
   "execution_count": 2,
   "id": "german-citation",
   "metadata": {},
   "outputs": [],
   "source": [
    "pdfmerger = PdfFileMerger()"
   ]
  },
  {
   "cell_type": "code",
   "execution_count": null,
   "id": "disciplinary-insurance",
   "metadata": {},
   "outputs": [],
   "source": []
  },
  {
   "cell_type": "code",
   "execution_count": 3,
   "id": "narrative-active",
   "metadata": {},
   "outputs": [
    {
     "name": "stderr",
     "output_type": "stream",
     "text": [
      "PdfReadWarning: Superfluous whitespace found in object header b'1' b'0' [pdf.py:1666]\n",
      "PdfReadWarning: Superfluous whitespace found in object header b'2' b'0' [pdf.py:1666]\n",
      "PdfReadWarning: Superfluous whitespace found in object header b'3' b'0' [pdf.py:1666]\n"
     ]
    }
   ],
   "source": [
    "for i in pdffile:\n",
    "    pdfmerger.append(open(i,'rb'))"
   ]
  },
  {
   "cell_type": "code",
   "execution_count": null,
   "id": "atomic-harris",
   "metadata": {},
   "outputs": [],
   "source": []
  },
  {
   "cell_type": "code",
   "execution_count": 4,
   "id": "smoking-former",
   "metadata": {},
   "outputs": [
    {
     "name": "stderr",
     "output_type": "stream",
     "text": [
      "PdfReadWarning: Superfluous whitespace found in object header b'14' b'0' [pdf.py:1666]\n",
      "PdfReadWarning: Superfluous whitespace found in object header b'15' b'0' [pdf.py:1666]\n",
      "PdfReadWarning: Superfluous whitespace found in object header b'11' b'0' [pdf.py:1666]\n",
      "PdfReadWarning: Superfluous whitespace found in object header b'4' b'0' [pdf.py:1666]\n",
      "PdfReadWarning: Superfluous whitespace found in object header b'5' b'0' [pdf.py:1666]\n",
      "PdfReadWarning: Superfluous whitespace found in object header b'6' b'0' [pdf.py:1666]\n",
      "PdfReadWarning: Superfluous whitespace found in object header b'8' b'0' [pdf.py:1666]\n",
      "PdfReadWarning: Superfluous whitespace found in object header b'7' b'0' [pdf.py:1666]\n",
      "PdfReadWarning: Superfluous whitespace found in object header b'9' b'0' [pdf.py:1666]\n",
      "PdfReadWarning: Superfluous whitespace found in object header b'10' b'0' [pdf.py:1666]\n",
      "PdfReadWarning: Superfluous whitespace found in object header b'12' b'0' [pdf.py:1666]\n",
      "PdfReadWarning: Superfluous whitespace found in object header b'13' b'0' [pdf.py:1666]\n"
     ]
    }
   ],
   "source": [
    "with open('result.pdf','wb') as fout:\n",
    "    pdfmerger.write(fout)"
   ]
  },
  {
   "cell_type": "code",
   "execution_count": null,
   "id": "electronic-architect",
   "metadata": {},
   "outputs": [],
   "source": []
  }
 ],
 "metadata": {
  "kernelspec": {
   "display_name": "Python 3",
   "language": "python",
   "name": "python3"
  },
  "language_info": {
   "codemirror_mode": {
    "name": "ipython",
    "version": 3
   },
   "file_extension": ".py",
   "mimetype": "text/x-python",
   "name": "python",
   "nbconvert_exporter": "python",
   "pygments_lexer": "ipython3",
   "version": "3.7.5"
  }
 },
 "nbformat": 4,
 "nbformat_minor": 5
}
