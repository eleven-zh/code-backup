{
 "cells": [
  {
   "cell_type": "code",
   "execution_count": null,
   "id": "quarterly-request",
   "metadata": {},
   "outputs": [],
   "source": [
    "import pandas as pd\n",
    "import numpy as np\n",
    "df1=pd.read_excel('BH packing list.xlsx')\n",
    "df2=pd.read_excel('BH packing list-1.xlsx')\n",
    "df1"
   ]
  },
  {
   "cell_type": "code",
   "execution_count": null,
   "id": "acknowledged-agenda",
   "metadata": {},
   "outputs": [],
   "source": [
    "df1.equals(df2)"
   ]
  },
  {
   "cell_type": "code",
   "execution_count": null,
   "id": "sound-weather",
   "metadata": {},
   "outputs": [],
   "source": [
    "comparison_values = df1.values == df2.values\n",
    "print (comparison_values)"
   ]
  },
  {
   "cell_type": "code",
   "execution_count": 17,
   "id": "meaningful-aurora",
   "metadata": {},
   "outputs": [],
   "source": [
    "rows,cols=np.where(comparison_values==False)"
   ]
  },
  {
   "cell_type": "code",
   "execution_count": 18,
   "id": "blessed-namibia",
   "metadata": {},
   "outputs": [],
   "source": [
    "for item in zip(rows,cols):\n",
    "    df1.iloc[item[0], item[1]] = '{} --> {}'.format(df1.iloc[item[0], item[1]],df2.iloc[item[0], item[1]])"
   ]
  },
  {
   "cell_type": "code",
   "execution_count": 19,
   "id": "comfortable-prague",
   "metadata": {},
   "outputs": [],
   "source": [
    "df1.to_excel('Excel_diff.xlsx',index=False,header=True)"
   ]
  }
 ],
 "metadata": {
  "kernelspec": {
   "display_name": "Python 3",
   "language": "python",
   "name": "python3"
  },
  "language_info": {
   "codemirror_mode": {
    "name": "ipython",
    "version": 3
   },
   "file_extension": ".py",
   "mimetype": "text/x-python",
   "name": "python",
   "nbconvert_exporter": "python",
   "pygments_lexer": "ipython3",
   "version": "3.7.5"
  }
 },
 "nbformat": 4,
 "nbformat_minor": 5
}
