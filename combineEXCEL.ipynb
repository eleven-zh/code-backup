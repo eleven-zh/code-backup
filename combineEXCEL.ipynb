{
 "cells": [
  {
   "cell_type": "code",
   "execution_count": null,
   "id": "latter-boxing",
   "metadata": {},
   "outputs": [],
   "source": [
    "import pandas as pd\n",
    "import os\n",
    "excelFile = [a for a in os.listdir('.') if a.endswith('.xlsx')]\n",
    "excelFile"
   ]
  },
  {
   "cell_type": "code",
   "execution_count": 6,
   "id": "reverse-latex",
   "metadata": {},
   "outputs": [],
   "source": [
    "df=pd.DataFrame()"
   ]
  },
  {
   "cell_type": "code",
   "execution_count": 7,
   "id": "alert-blend",
   "metadata": {},
   "outputs": [],
   "source": [
    "for i in excelFile:\n",
    "    df1 = pd.read_excel(i,sheet_name=None, index_col=None)\n",
    "    cdf1 = pd.concat(df1.values())\n",
    "    df = df.append(cdf1,ignore_index=True)"
   ]
  },
  {
   "cell_type": "code",
   "execution_count": 8,
   "id": "accepted-excess",
   "metadata": {},
   "outputs": [],
   "source": [
    "df.to_excel('combineFile1.xlsx')\n"
   ]
  }
 ],
 "metadata": {
  "kernelspec": {
   "display_name": "Python 3",
   "language": "python",
   "name": "python3"
  },
  "language_info": {
   "codemirror_mode": {
    "name": "ipython",
    "version": 3
   },
   "file_extension": ".py",
   "mimetype": "text/x-python",
   "name": "python",
   "nbconvert_exporter": "python",
   "pygments_lexer": "ipython3",
   "version": "3.7.5"
  }
 },
 "nbformat": 4,
 "nbformat_minor": 5
}
