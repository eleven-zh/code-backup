{
 "cells": [
  {
   "cell_type": "code",
   "execution_count": 2,
   "id": "thousand-defensive",
   "metadata": {
    "scrolled": true
   },
   "outputs": [],
   "source": [
    "import pandas as pd\n",
    "import os,re\n",
    "\n",
    "\n",
    "df1 = pd.read_excel('big.xlsx')\n",
    "filename = df1['Release Note Nr'].tolist()"
   ]
  },
  {
   "cell_type": "code",
   "execution_count": 3,
   "id": "understood-spring",
   "metadata": {},
   "outputs": [],
   "source": [
    "def findAllFile(path):\n",
    "    for root, dirs, files in os.walk(path):\n",
    "        for file in files:\n",
    "            if re.match(r'^(PJOE Packing List).*(.xlsx)$', file):\n",
    "                fullname = os.path.join(root, file)\n",
    "                yield fullname"
   ]
  },
  {
   "cell_type": "code",
   "execution_count": 4,
   "id": "controlled-bidding",
   "metadata": {
    "scrolled": true
   },
   "outputs": [],
   "source": [
    "L=[]\n",
    "for i in filename:\n",
    "    for j in findAllFile('C:\\\\code'):\n",
    "        if i in j:\n",
    "            L.append(j)\n",
    "\n"
   ]
  },
  {
   "cell_type": "code",
   "execution_count": 5,
   "id": "medium-serum",
   "metadata": {},
   "outputs": [],
   "source": [
    "df = pd.DataFrame()\n",
    "for x in L:\n",
    "    df2=pd.read_excel(x)\n",
    "    for ii, row in df2.iterrows():\n",
    "        for jj, column in row.iteritems():\n",
    "            if column =='Number of Packages':\n",
    "                \n",
    "                df2.iloc[-1,2]= df2.loc[ii+2,'Unnamed: 13']\n",
    "                \n",
    "                df2.iloc[-1,0]=x\n",
    "\n",
    "                df2= df2.iloc[-1,:]\n",
    "                df=df.append(df2,ignore_index=True)\n",
    "\n",
    "\n"
   ]
  },
  {
   "cell_type": "code",
   "execution_count": 6,
   "id": "comparative-story",
   "metadata": {},
   "outputs": [],
   "source": [
    "df.dropna(axis=1,how='all',inplace=True)"
   ]
  },
  {
   "cell_type": "code",
   "execution_count": 31,
   "id": "intermediate-behavior",
   "metadata": {
    "scrolled": true
   },
   "outputs": [],
   "source": [
    "df['newcolmun']=df['Unnamed: 0'].str.extract(r'PJOE Packing List (S\\.\\d{6}(\\.\\d+)?)',expand=False)[0]\n"
   ]
  },
  {
   "cell_type": "code",
   "execution_count": 32,
   "id": "aboriginal-paraguay",
   "metadata": {},
   "outputs": [],
   "source": [
    "df.to_excel('newform1.xlsx')"
   ]
  }
 ],
 "metadata": {
  "kernelspec": {
   "display_name": "Python 3",
   "language": "python",
   "name": "python3"
  },
  "language_info": {
   "codemirror_mode": {
    "name": "ipython",
    "version": 3
   },
   "file_extension": ".py",
   "mimetype": "text/x-python",
   "name": "python",
   "nbconvert_exporter": "python",
   "pygments_lexer": "ipython3",
   "version": "3.7.5"
  }
 },
 "nbformat": 4,
 "nbformat_minor": 5
}
