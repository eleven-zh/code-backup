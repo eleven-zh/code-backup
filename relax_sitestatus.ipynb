{
 "cells": [
  {
   "cell_type": "code",
   "execution_count": 9,
   "id": "metallic-village",
   "metadata": {},
   "outputs": [],
   "source": [
    "import pandas as pd\n",
    "df1 = pd.read_excel('Expediting_Tracking_Details_2021-03-16.xlsx')\n",
    "df2 = pd.read_excel('big.xlsx')\n"
   ]
  },
  {
   "cell_type": "code",
   "execution_count": 10,
   "id": "simple-cancer",
   "metadata": {},
   "outputs": [],
   "source": [
    "df2 = df2['Release Note Nr'].str.replace(' ','')\n"
   ]
  },
  {
   "cell_type": "code",
   "execution_count": null,
   "id": "sized-banks",
   "metadata": {},
   "outputs": [],
   "source": [
    "df1 = df1.drop(labels=['Req Suppl','Req Pos','PO Pos','PO Sub Pos','Purc Dest','PURC_DEST_REV','ISH Pos','ISH Sub Pos','Item Ship Weight',\n",
    "                    'Client Code','Commodity code','Size 2','Wall 1','Wall 2','Planned Date','Forecasted Date','Reln Date',\n",
    "                    'Actual Date','Delivery Designation','Date type','Last Mod Date','Incoterm','Rev Incoterm','Destination',\n",
    "                    'Rev Delivery Place','Delv Date','ROS Date','Sub Vendor','Module','Selection code','ISH Comment','IRC Weight',\n",
    "                    'Release Note Qty','Received Qty','MRR Number','MRR_POSTED_DATE','OSD Y/N','PARENT_TAG_YN','ROUTING_METHOD_CODE',\n",
    "                    'RELN_APPROVED_BY','RELN_APPROVED_DATE','MCS_CERTIFICATE_NO1','MCS_CERTIFICATE_NO2','MCS_HEAT1','MCS_HEAT2',\n",
    "                    'IRC_DATE','IRC_NUMBER'],axis=1)\n",
    "df1"
   ]
  },
  {
   "cell_type": "code",
   "execution_count": null,
   "id": "conceptual-behalf",
   "metadata": {},
   "outputs": [],
   "source": [
    "column_order=['Release Note Nr','Req Sub Pos','Requisition number','PO Rev','PO Number','Expediter','Supplier Code','Discipline','Ident Description','PO Origin','Tag Number','Ident Code','Size 1','Item Ship Qty','QTY_UNIT','Delivery Place']\n",
    "df1=df1[column_order]\n",
    "df1"
   ]
  },
  {
   "cell_type": "code",
   "execution_count": 13,
   "id": "raising-venture",
   "metadata": {},
   "outputs": [],
   "source": [
    "df = pd.merge(df1,df2,how = 'right',on = 'Release Note Nr')"
   ]
  },
  {
   "cell_type": "code",
   "execution_count": 14,
   "id": "effective-liabilities",
   "metadata": {},
   "outputs": [],
   "source": [
    "def add_index(x):\n",
    "    if x == 'JV_PIPING':\n",
    "        x = '1-PIPING'\n",
    "    elif x == 'SUPPORT':\n",
    "        x = '5-PIPE SUPPORT'\n",
    "    elif x == 'INSTRUMENT':\n",
    "        x = '6-INSTRUMENT'\n",
    "    elif x == 'ELECTRICAL':\n",
    "        x = '2-ELECTRICAL'\n",
    "    elif x == 'MECHANICAL':\n",
    "        x = '3-MECHANICAL'\n",
    "    elif x == 'MTF_SIS':\n",
    "        x = '4-MTF_SIS'\n",
    "    else:\n",
    "        x = 'none'\n",
    "    return (x)\n",
    "df['Discipline'] = df['Discipline'].apply(add_index)"
   ]
  },
  {
   "cell_type": "code",
   "execution_count": null,
   "id": "partial-ratio",
   "metadata": {},
   "outputs": [],
   "source": [
    "df['Req Sub Pos'] = 'GYGAZ'\n",
    "\n",
    "df['PO Rev'] = df['Requisition number'].str.split('-',expand = True).get(3)\n",
    "df['PO Rev']"
   ]
  },
  {
   "cell_type": "code",
   "execution_count": 22,
   "id": "derived-adapter",
   "metadata": {},
   "outputs": [],
   "source": [
    "df.to_excel('arch.xlsx')\n"
   ]
  },
  {
   "cell_type": "code",
   "execution_count": null,
   "id": "operating-melissa",
   "metadata": {},
   "outputs": [],
   "source": []
  }
 ],
 "metadata": {
  "kernelspec": {
   "display_name": "Python 3",
   "language": "python",
   "name": "python3"
  },
  "language_info": {
   "codemirror_mode": {
    "name": "ipython",
    "version": 3
   },
   "file_extension": ".py",
   "mimetype": "text/x-python",
   "name": "python",
   "nbconvert_exporter": "python",
   "pygments_lexer": "ipython3",
   "version": "3.7.5"
  }
 },
 "nbformat": 4,
 "nbformat_minor": 5
}
